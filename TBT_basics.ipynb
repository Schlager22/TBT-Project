{
  "nbformat": 4,
  "nbformat_minor": 0,
  "metadata": {
    "colab": {
      "provenance": [],
      "authorship_tag": "ABX9TyO1kb3jibKxG/fgdLQgKd07",
      "include_colab_link": true
    },
    "kernelspec": {
      "name": "python3",
      "display_name": "Python 3"
    },
    "language_info": {
      "name": "python"
    }
  },
  "cells": [
    {
      "cell_type": "markdown",
      "metadata": {
        "id": "view-in-github",
        "colab_type": "text"
      },
      "source": [
        "<a href=\"https://colab.research.google.com/github/Schlager22/TBT-Project/blob/master/TBT_basics.ipynb\" target=\"_parent\"><img src=\"https://colab.research.google.com/assets/colab-badge.svg\" alt=\"Open In Colab\"/></a>"
      ]
    },
    {
      "cell_type": "code",
      "source": [],
      "metadata": {
        "id": "oBAtURN6dt_A"
      },
      "execution_count": null,
      "outputs": []
    },
    {
      "cell_type": "code",
      "execution_count": 8,
      "metadata": {
        "id": "ujeWIEz7daxI"
      },
      "outputs": [],
      "source": [
        "# Champion Definition\n",
        "# All unique TFT Champs with associated cost\n",
        "cost1_champ = ['Cassiopeia', 'ChoGath', 'Irelia', 'Jhin', 'Kayle', 'Malzahar', 'Maokai', 'Orianna', 'Poppy', 'Renekton', 'Samira', 'Tristana', 'Viego']\n",
        "cost2_champ = ['Ashe', 'Galio', 'Jinx', 'Kassadin', 'Kled', 'Sett', 'Soraka', 'Swain', 'Taliyah', 'Teemo', 'Vi', 'Warwick', 'Zed']\n",
        "cost3_champ = ['Akshan', 'Darius', 'Ekko', 'Garen', 'Jayce', 'Kalista', 'Karma', 'Katarina', 'Lissandra', 'RekSai', 'Sona', 'Taric', 'VelKoz']\n",
        "cost4_champ = ['Aphelios', 'Azir', 'Gwen', 'Nasus', 'Sejuani', 'Shen', 'Urgot', 'Yasuo', 'Zeri']\n",
        "cost5_champ = ['Aatrox', 'Ahri', 'BelVeth', 'Heimerdinger', 'KSante', 'Ryze', 'Senna', 'Sion']\n"
      ]
    },
    {
      "cell_type": "code",
      "source": [
        "# Champion Pool\n",
        "# Qty of each cost 1-29, 2-22, 3-18, 4-12, 5-10\n",
        "cost1_pool = cost1_champ * 29\n",
        "cost2_pool = cost2_champ * 22\n",
        "cost3_pool = cost3_champ * 18\n",
        "cost4_pool = cost4_champ * 12\n",
        "cost5_pool = cost5_champ * 10\n"
      ],
      "metadata": {
        "id": "r8BQ-S5fdtfR"
      },
      "execution_count": 9,
      "outputs": []
    },
    {
      "cell_type": "code",
      "source": [
        "champ_pool = cost1_pool + cost2_pool + cost3_pool + cost4_pool + cost5_pool"
      ],
      "metadata": {
        "id": "nA4oG-Z4eTzi"
      },
      "execution_count": 10,
      "outputs": []
    },
    {
      "cell_type": "code",
      "source": [
        "# Shop Odds by Level\n",
        "lvl2_shop = [1, 0, 0, 0, 0 ]\n",
        "lvl3_shop = [.75, .25, 0, 0, 0]\n",
        "lvl4_shop = [.55, .35, .15, 0, 0]\n",
        "lvl5_shop = [.45, .33, .2, .02, 0]\n",
        "lvl6_shop = [.25, .4, .3, .05, 0]\n",
        "lvl7_shop = [.19, .3, .35, .15, .01]\n",
        "lvl8_shop = [.16, .2, .35, .25, .04]\n",
        "lvl9_shop = [.09, .15, .3, .3, .16]\n",
        "lvl10_shop = [.05, .1, .2, .4, .25]\n",
        "lvl11_shop = [.01, .02, .12, .5, .35]"
      ],
      "metadata": {
        "id": "qo4OjLDSfZpG"
      },
      "execution_count": 11,
      "outputs": []
    },
    {
      "cell_type": "code",
      "source": [
        "# Player Bench\n",
        "player1_bench = []\n",
        "# rule for bench space\n",
        "# if len(player1_bench) > 9:\n",
        "# raise Exception('Bench is full')\n"
      ],
      "metadata": {
        "id": "MEHX7_5PktRz"
      },
      "execution_count": 12,
      "outputs": []
    },
    {
      "cell_type": "code",
      "source": [
        "player_lvl = 1\n"
      ],
      "metadata": {
        "id": "DgsdPlyCtLHR"
      },
      "execution_count": null,
      "outputs": []
    }
  ]
}