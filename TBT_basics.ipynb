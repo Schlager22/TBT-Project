{
  "nbformat": 4,
  "nbformat_minor": 0,
  "metadata": {
    "colab": {
      "provenance": [],
      "authorship_tag": "ABX9TyMtRM3vkceQHIdfEL5s4scW",
      "include_colab_link": true
    },
    "kernelspec": {
      "name": "python3",
      "display_name": "Python 3"
    },
    "language_info": {
      "name": "python"
    }
  },
  "cells": [
    {
      "cell_type": "markdown",
      "metadata": {
        "id": "view-in-github",
        "colab_type": "text"
      },
      "source": [
        "<a href=\"https://colab.research.google.com/github/Schlager22/TBT-Project/blob/master/TBT_basics.ipynb\" target=\"_parent\"><img src=\"https://colab.research.google.com/assets/colab-badge.svg\" alt=\"Open In Colab\"/></a>"
      ]
    },
    {
      "cell_type": "code",
      "source": [
        "import numpy as np\n",
        "import pandas as pd\n",
        "import random"
      ],
      "metadata": {
        "id": "oBAtURN6dt_A"
      },
      "execution_count": 38,
      "outputs": []
    },
    {
      "cell_type": "code",
      "execution_count": 39,
      "metadata": {
        "id": "ujeWIEz7daxI"
      },
      "outputs": [],
      "source": [
        "# Champion Definition\n",
        "# All unique TFT Champs with associated cost\n",
        "cost1_champ = ['Cassiopeia', 'ChoGath', 'Irelia', 'Jhin', 'Kayle', 'Malzahar', 'Maokai', 'Orianna', 'Poppy', 'Renekton', 'Samira', 'Tristana', 'Viego']\n",
        "cost2_champ = ['Ashe', 'Galio', 'Jinx', 'Kassadin', 'Kled', 'Sett', 'Soraka', 'Swain', 'Taliyah', 'Teemo', 'Vi', 'Warwick', 'Zed']\n",
        "cost3_champ = ['Akshan', 'Darius', 'Ekko', 'Garen', 'Jayce', 'Kalista', 'Karma', 'Katarina', 'Lissandra', 'RekSai', 'Sona', 'Taric', 'VelKoz']\n",
        "cost4_champ = ['Aphelios', 'Azir', 'Gwen', 'Nasus', 'Sejuani', 'Shen', 'Urgot', 'Yasuo', 'Zeri']\n",
        "cost5_champ = ['Aatrox', 'Ahri', 'BelVeth', 'Heimerdinger', 'KSante', 'Ryze', 'Senna', 'Sion']\n"
      ]
    },
    {
      "cell_type": "code",
      "source": [
        "# Champion Pool\n",
        "# Qty of each cost 1-29, 2-22, 3-18, 4-12, 5-10\n",
        "cost1_pool = cost1_champ * 29\n",
        "cost2_pool = cost2_champ * 22\n",
        "cost3_pool = cost3_champ * 18\n",
        "cost4_pool = cost4_champ * 12\n",
        "cost5_pool = cost5_champ * 10"
      ],
      "metadata": {
        "id": "r8BQ-S5fdtfR"
      },
      "execution_count": 40,
      "outputs": []
    },
    {
      "cell_type": "code",
      "source": [
        "players = []\n",
        "bench = ['Cassiopeia', 'ChoGath','ChoGath','ChoGath','Irelia', 'Jhin']\n",
        "shop = []\n",
        "play_area = []\n",
        "round_win = [True, False]\n",
        "\n",
        "# May not need these attributes if we go dictionary route\n",
        "# health = 100\n",
        "# gold = 0\n",
        "# xp = 0\n",
        "# player_level = 1\n",
        "# shop_level = player_level"
      ],
      "metadata": {
        "id": "lsWillE0zpEm"
      },
      "execution_count": 69,
      "outputs": []
    },
    {
      "cell_type": "code",
      "source": [
        "# Dictionary list of players - FIXX - May need to convert becn and play area to dictionaries\n",
        "for i in range(1,9):\n",
        "  player = {\n",
        "      \"name\": f\"Player_{i}\",\n",
        "      \"health\": 100,\n",
        "      \"xp\":0,\n",
        "      \"level\":1,\n",
        "      \"gold\":0,\n",
        "      \"shop_level\":player['level']\n",
        "  }\n",
        "  players.append(player)\n",
        "\n",
        "for player in players:\n",
        "  print(player)"
      ],
      "metadata": {
        "id": "kxdwRHni6FuM"
      },
      "execution_count": null,
      "outputs": []
    },
    {
      "cell_type": "code",
      "source": [
        "# Star up units function STAR_UP\n",
        "def star_up(lst):\n",
        "  item_count = {}\n",
        "  star_up_list = []\n",
        "\n",
        "  for item in lst:\n",
        "    if item in item_count:\n",
        "      item_count[item] += 1\n",
        "      if item_count[item] == 3:\n",
        "        upg_unit = f\"**{item}\"\n",
        "        star_up_list.remove(item)\n",
        "        star_up_list.append(upg_unit)\n",
        "    else:\n",
        "      item_count[item] = 1\n",
        "      star_up_list.append(item)\n",
        "\n",
        "  return star_up_list\n"
      ],
      "metadata": {
        "id": "KQaw0oUxAzWR"
      },
      "execution_count": 59,
      "outputs": []
    },
    {
      "cell_type": "code",
      "source": [
        "# List Limits\n",
        "def bench_limit_check(bench):\n",
        "  if len(bench) >= 10:\n",
        "    print(\"Your bench is full.  Clear space before adding champions.\")"
      ],
      "metadata": {
        "id": "F8n3vuyLygqg"
      },
      "execution_count": 63,
      "outputs": []
    },
    {
      "cell_type": "code",
      "source": [
        "bench_after_upg = star_up(bench)\n",
        "print(bench_after_upg)"
      ],
      "metadata": {
        "colab": {
          "base_uri": "https://localhost:8080/"
        },
        "id": "1Wo4RlDLszlQ",
        "outputId": "ca26d322-acf1-4d9e-d666-bc23a657e323"
      },
      "execution_count": 60,
      "outputs": [
        {
          "output_type": "stream",
          "name": "stdout",
          "text": [
            "['Cassiopeia', '**ChoGath', 'Irelia', 'Jhin']\n"
          ]
        }
      ]
    },
    {
      "cell_type": "code",
      "source": [],
      "metadata": {
        "colab": {
          "base_uri": "https://localhost:8080/"
        },
        "id": "jQ5tjBKUE9Rv",
        "outputId": "40317065-b1b6-46a4-f6a1-2b41539c7a31"
      },
      "execution_count": 37,
      "outputs": [
        {
          "output_type": "execute_result",
          "data": {
            "text/plain": [
              "['**ChoGath']"
            ]
          },
          "metadata": {},
          "execution_count": 37
        }
      ]
    },
    {
      "cell_type": "code",
      "source": [
        "champ_pool = [cost1_pool + cost2_pool + cost3_pool + cost4_pool + cost5_pool]"
      ],
      "metadata": {
        "id": "nA4oG-Z4eTzi"
      },
      "execution_count": 61,
      "outputs": []
    },
    {
      "cell_type": "code",
      "source": [
        "# Pop Example\n",
        "x = [1,2,3,4,5,6,7,8,9]\n",
        "shop_ex = []\n",
        "\n",
        "for i in range(0,5):\n",
        "  random.shuffle(x)\n",
        "  shop_ex.append(x.pop())\n",
        "  i + 1\n",
        "\n",
        "print(shop_ex)"
      ],
      "metadata": {
        "colab": {
          "base_uri": "https://localhost:8080/"
        },
        "id": "-v9v-Vz00dqF",
        "outputId": "c560ce93-fca2-4dcf-ef0d-e0d24a1abc06"
      },
      "execution_count": null,
      "outputs": [
        {
          "output_type": "stream",
          "name": "stdout",
          "text": [
            "[2, 8, 9, 5, 7]\n"
          ]
        }
      ]
    },
    {
      "cell_type": "code",
      "source": [
        "# Receive User Input to move a champ from shop to bench BUY_UNITS\n",
        "def buy_units():\n",
        "  units = shop\n",
        "  print(\"Shop has been refreshed. Buy any of these units by using 1-5 keys\")\n",
        "  for i, unit in enumerate(units, start = 1):\n",
        "    print(f\"{i}. {unit}\")\n",
        "    selection = int(input(\"Enter the number for the corresponding unit: \"))\n",
        "    if 1 <= selection <= len(units):\n",
        "      chosen_item = units[selection - 1]\n",
        "      print(f\"You selected: {chosen_item}\")\n",
        "    else:\n",
        "      print(\"Invalid selection!\")\n",
        "    break\n",
        "\n",
        "if __name__ == \"__buy_units__\":\n",
        "  buy_units()\n"
      ],
      "metadata": {
        "id": "7YxsOsHm7XE3"
      },
      "execution_count": null,
      "outputs": []
    },
    {
      "cell_type": "code",
      "source": [
        "for index in range(len(shop)):\n",
        "  value = shop[index]\n",
        "  print(index, value)\n",
        "\n",
        "    for i in range(len(shop)):\n",
        "    value = shop[i]\n",
        "    print(i, value)"
      ],
      "metadata": {
        "colab": {
          "base_uri": "https://localhost:8080/"
        },
        "id": "3d2-3UOa-u1Y",
        "outputId": "4e55471f-2826-45cd-c3a5-b9710d75c853"
      },
      "execution_count": null,
      "outputs": [
        {
          "output_type": "stream",
          "name": "stdout",
          "text": [
            "0 Renekton\n",
            "1 Tristana\n",
            "2 Renekton\n"
          ]
        }
      ]
    },
    {
      "cell_type": "code",
      "source": [
        "shop = []\n",
        "bench = []\n",
        "for i in range(0,5):\n",
        "  random.shuffle(cost1_pool)\n",
        "  shop.append(cost1_pool.pop())\n",
        "# Action needed for buying shop units\n",
        "# Place units back in pool\n",
        "  cost1_pool.append(shop)\n",
        "  i+1\n",
        "\n",
        "print(shop)\n",
        "print(len(cost1_pool))\n"
      ],
      "metadata": {
        "colab": {
          "base_uri": "https://localhost:8080/"
        },
        "id": "aTYjg_AS1maJ",
        "outputId": "8c233795-2059-4549-ae44-65bba2796227"
      },
      "execution_count": null,
      "outputs": [
        {
          "output_type": "stream",
          "name": "stdout",
          "text": [
            "['Poppy', 'Poppy', 'Renekton', 'Kayle', 'Samira']\n",
            "374\n"
          ]
        }
      ]
    },
    {
      "cell_type": "code",
      "source": [
        "# Shop Odds by Level\n",
        "lvl1_shop = [1, 0, 0, 0, 0 ]\n",
        "lvl2_shop = [1, 0, 0, 0, 0 ]\n",
        "lvl3_shop = [.75, .25, 0, 0, 0]\n",
        "lvl4_shop = [.55, .35, .15, 0, 0]\n",
        "lvl5_shop = [.45, .33, .2, .02, 0]\n",
        "lvl6_shop = [.25, .4, .3, .05, 0]\n",
        "lvl7_shop = [.19, .3, .35, .15, .01]\n",
        "lvl8_shop = [.16, .2, .35, .25, .04]\n",
        "lvl9_shop = [.09, .15, .3, .3, .16]\n",
        "lvl10_shop = [.05, .1, .2, .4, .25]\n",
        "lvl11_shop = [.01, .02, .12, .5, .35]"
      ],
      "metadata": {
        "id": "qo4OjLDSfZpG"
      },
      "execution_count": null,
      "outputs": []
    },
    {
      "cell_type": "code",
      "source": [
        "# Player Bench\n",
        "player1_bench = []\n",
        "shop = []\n",
        "# rule for bench space\n",
        "# if len(player1_bench) > 9:\n",
        "# raise Exception('Bench is full')\n"
      ],
      "metadata": {
        "id": "MEHX7_5PktRz"
      },
      "execution_count": null,
      "outputs": []
    },
    {
      "cell_type": "code",
      "source": [
        "player_lvl = 1\n"
      ],
      "metadata": {
        "id": "DgsdPlyCtLHR"
      },
      "execution_count": null,
      "outputs": []
    },
    {
      "cell_type": "code",
      "source": [
        "if player_lvl == 1:\n",
        "  champ_pool[0].pop()\n",
        "\n"
      ],
      "metadata": {
        "id": "7k7hTff933AV"
      },
      "execution_count": null,
      "outputs": []
    },
    {
      "cell_type": "code",
      "source": [
        "def initial_champ(cost1_pool, num_pulls):\n",
        "  starting_champ = random.choices(cost1_pool, k=num_pulls)\n",
        "    return starting_champ ="
      ],
      "metadata": {
        "id": "ge_YHr6n6DLD"
      },
      "execution_count": null,
      "outputs": []
    },
    {
      "cell_type": "code",
      "source": [
        "# Champion Probabilities as a dictionary\n",
        "champ_prob_dict = {\n",
        "    1:0.8,\n",
        "    2:0.2,\n",
        "    3:0,\n",
        "    4:0,\n",
        "    5:0\n",
        "}"
      ],
      "metadata": {
        "id": "jl2MxaDL8jm0"
      },
      "execution_count": null,
      "outputs": []
    },
    {
      "cell_type": "code",
      "source": [
        "# Champion Pool Dictionary\n",
        "champ_pool_dict = {\n",
        "    'Cassiopeia':{'cost':1}\n",
        "    , 'ChoGath':{'cost':1}\n",
        "    , 'Irelia':{'cost':1}\n",
        "    , 'Jhin':{'cost':1}\n",
        "    , 'Kayle':{'cost':1}\n",
        "    , 'Malzahar':{'cost':1}\n",
        "    , 'Maokai':{'cost':1}\n",
        "    , 'Orianna':{'cost':1}\n",
        "    , 'Poppy':{'cost':1}\n",
        "    , 'Renekton':{'cost':1}\n",
        "    , 'Samira':{'cost':1}\n",
        "    , 'Tristana':{'cost':1}\n",
        "    , 'Viego':{'cost':1}\n",
        "    , 'Ashe':{'cost':2}\n",
        "    , 'Galio':{'cost':2}\n",
        "    , 'Jinx':{'cost':2}\n",
        "    , 'Kassadin':{'cost':2}\n",
        "    , 'Kled':{'cost':2}\n",
        "    , 'Sett':{'cost':2}\n",
        "    , 'Soraka':{'cost':2}\n",
        "    , 'Swain':{'cost':2}\n",
        "    , 'Taliyah':{'cost':2}\n",
        "    , 'Teemo':{'cost':2}\n",
        "    , 'Vi':{'cost':2}\n",
        "    , 'Warwick':{'cost':2}\n",
        "    , 'Zed':{'cost':2}\n",
        "}\n"
      ],
      "metadata": {
        "id": "qkmBBKXk9B1a"
      },
      "execution_count": null,
      "outputs": []
    },
    {
      "cell_type": "code",
      "source": [
        "num_pulls = 5\n",
        "shop_lvl = 1\n",
        "player_lvl = 1"
      ],
      "metadata": {
        "id": "QCYRwUfs_AbB"
      },
      "execution_count": null,
      "outputs": []
    },
    {
      "cell_type": "code",
      "source": [
        "def pull_champs(champ_prob_dict,num_pulls):\n",
        "  champs = list(champ_pool_dict.keys())\n",
        "  weights = list(champ_prob_dict.values())\n",
        "  pulled_champs = random.choices(champs, weights = weights, k = num_pulls)\n",
        "  return pulled_champs\n",
        "\n",
        "shop = pull_champs(champ_prob_dict, num_pulls)\n",
        "print('Pulled Champs:', shop)\n",
        "\n"
      ],
      "metadata": {
        "colab": {
          "base_uri": "https://localhost:8080/",
          "height": 381
        },
        "id": "5RRe1nHz_Zb_",
        "outputId": "f2db0e9d-5b8a-4bf3-e1dd-c45ca67cc5eb"
      },
      "execution_count": null,
      "outputs": [
        {
          "output_type": "error",
          "ename": "ValueError",
          "evalue": "ignored",
          "traceback": [
            "\u001b[0;31m---------------------------------------------------------------------------\u001b[0m",
            "\u001b[0;31mValueError\u001b[0m                                Traceback (most recent call last)",
            "\u001b[0;32m<ipython-input-24-521cfaf9ac96>\u001b[0m in \u001b[0;36m<cell line: 7>\u001b[0;34m()\u001b[0m\n\u001b[1;32m      5\u001b[0m   \u001b[0;32mreturn\u001b[0m \u001b[0mpulled_champs\u001b[0m\u001b[0;34m\u001b[0m\u001b[0;34m\u001b[0m\u001b[0m\n\u001b[1;32m      6\u001b[0m \u001b[0;34m\u001b[0m\u001b[0m\n\u001b[0;32m----> 7\u001b[0;31m \u001b[0mshop\u001b[0m \u001b[0;34m=\u001b[0m \u001b[0mpull_champs\u001b[0m\u001b[0;34m(\u001b[0m\u001b[0mchamp_prob_dict\u001b[0m\u001b[0;34m,\u001b[0m \u001b[0mnum_pulls\u001b[0m\u001b[0;34m)\u001b[0m\u001b[0;34m\u001b[0m\u001b[0;34m\u001b[0m\u001b[0m\n\u001b[0m\u001b[1;32m      8\u001b[0m \u001b[0mprint\u001b[0m\u001b[0;34m(\u001b[0m\u001b[0;34m'Pulled Champs:'\u001b[0m\u001b[0;34m,\u001b[0m \u001b[0mshop\u001b[0m\u001b[0;34m)\u001b[0m\u001b[0;34m\u001b[0m\u001b[0;34m\u001b[0m\u001b[0m\n\u001b[1;32m      9\u001b[0m \u001b[0;34m\u001b[0m\u001b[0m\n",
            "\u001b[0;32m<ipython-input-24-521cfaf9ac96>\u001b[0m in \u001b[0;36mpull_champs\u001b[0;34m(champ_prob_dict, num_pulls)\u001b[0m\n\u001b[1;32m      2\u001b[0m   \u001b[0mchamps\u001b[0m \u001b[0;34m=\u001b[0m \u001b[0mlist\u001b[0m\u001b[0;34m(\u001b[0m\u001b[0mchamp_pool_dict\u001b[0m\u001b[0;34m.\u001b[0m\u001b[0mkeys\u001b[0m\u001b[0;34m(\u001b[0m\u001b[0;34m)\u001b[0m\u001b[0;34m)\u001b[0m\u001b[0;34m\u001b[0m\u001b[0;34m\u001b[0m\u001b[0m\n\u001b[1;32m      3\u001b[0m   \u001b[0mweights\u001b[0m \u001b[0;34m=\u001b[0m \u001b[0mlist\u001b[0m\u001b[0;34m(\u001b[0m\u001b[0mchamp_prob_dict\u001b[0m\u001b[0;34m.\u001b[0m\u001b[0mvalues\u001b[0m\u001b[0;34m(\u001b[0m\u001b[0;34m)\u001b[0m\u001b[0;34m)\u001b[0m\u001b[0;34m\u001b[0m\u001b[0;34m\u001b[0m\u001b[0m\n\u001b[0;32m----> 4\u001b[0;31m   \u001b[0mpulled_champs\u001b[0m \u001b[0;34m=\u001b[0m \u001b[0mrandom\u001b[0m\u001b[0;34m.\u001b[0m\u001b[0mchoices\u001b[0m\u001b[0;34m(\u001b[0m\u001b[0mchamps\u001b[0m\u001b[0;34m,\u001b[0m \u001b[0mweights\u001b[0m \u001b[0;34m=\u001b[0m \u001b[0mweights\u001b[0m\u001b[0;34m,\u001b[0m \u001b[0mk\u001b[0m \u001b[0;34m=\u001b[0m \u001b[0mnum_pulls\u001b[0m\u001b[0;34m)\u001b[0m\u001b[0;34m\u001b[0m\u001b[0;34m\u001b[0m\u001b[0m\n\u001b[0m\u001b[1;32m      5\u001b[0m   \u001b[0;32mreturn\u001b[0m \u001b[0mpulled_champs\u001b[0m\u001b[0;34m\u001b[0m\u001b[0;34m\u001b[0m\u001b[0m\n\u001b[1;32m      6\u001b[0m \u001b[0;34m\u001b[0m\u001b[0m\n",
            "\u001b[0;32m/usr/lib/python3.10/random.py\u001b[0m in \u001b[0;36mchoices\u001b[0;34m(self, population, weights, cum_weights, k)\u001b[0m\n\u001b[1;32m    530\u001b[0m             \u001b[0;32mraise\u001b[0m \u001b[0mTypeError\u001b[0m\u001b[0;34m(\u001b[0m\u001b[0;34m'Cannot specify both weights and cumulative weights'\u001b[0m\u001b[0;34m)\u001b[0m\u001b[0;34m\u001b[0m\u001b[0;34m\u001b[0m\u001b[0m\n\u001b[1;32m    531\u001b[0m         \u001b[0;32mif\u001b[0m \u001b[0mlen\u001b[0m\u001b[0;34m(\u001b[0m\u001b[0mcum_weights\u001b[0m\u001b[0;34m)\u001b[0m \u001b[0;34m!=\u001b[0m \u001b[0mn\u001b[0m\u001b[0;34m:\u001b[0m\u001b[0;34m\u001b[0m\u001b[0;34m\u001b[0m\u001b[0m\n\u001b[0;32m--> 532\u001b[0;31m             \u001b[0;32mraise\u001b[0m \u001b[0mValueError\u001b[0m\u001b[0;34m(\u001b[0m\u001b[0;34m'The number of weights does not match the population'\u001b[0m\u001b[0;34m)\u001b[0m\u001b[0;34m\u001b[0m\u001b[0;34m\u001b[0m\u001b[0m\n\u001b[0m\u001b[1;32m    533\u001b[0m         \u001b[0mtotal\u001b[0m \u001b[0;34m=\u001b[0m \u001b[0mcum_weights\u001b[0m\u001b[0;34m[\u001b[0m\u001b[0;34m-\u001b[0m\u001b[0;36m1\u001b[0m\u001b[0;34m]\u001b[0m \u001b[0;34m+\u001b[0m \u001b[0;36m0.0\u001b[0m   \u001b[0;31m# convert to float\u001b[0m\u001b[0;34m\u001b[0m\u001b[0;34m\u001b[0m\u001b[0m\n\u001b[1;32m    534\u001b[0m         \u001b[0;32mif\u001b[0m \u001b[0mtotal\u001b[0m \u001b[0;34m<=\u001b[0m \u001b[0;36m0.0\u001b[0m\u001b[0;34m:\u001b[0m\u001b[0;34m\u001b[0m\u001b[0;34m\u001b[0m\u001b[0m\n",
            "\u001b[0;31mValueError\u001b[0m: The number of weights does not match the population"
          ]
        }
      ]
    },
    {
      "cell_type": "code",
      "source": [
        "def pull_champs(champ_pool_dict, num_pulls, shop_lvl):\n",
        "  #probabilities = get_probabilities(champion_pool, shop_lvl)\n",
        "  champs = list(champ_pool_dict.keys())\n",
        "  weights = list(champ_pool_dict.values())\n",
        "  pulled_champs = random.choices(champs, weights = weights, k = num_pulls)\n",
        "  return pulled_champs\n",
        "\n",
        "#def get_probabilities(champ_pool_dict, shop_lvl):\n",
        "#    champ"
      ],
      "metadata": {
        "id": "UORmno9wEHEM"
      },
      "execution_count": null,
      "outputs": []
    },
    {
      "cell_type": "code",
      "source": [
        "shop_pull_ex = pull_champs(champ_pool_dict, num_pulls, shop_lvl)\n",
        "print(\"Pulled Champs:\", shop_pull_ex)"
      ],
      "metadata": {
        "colab": {
          "base_uri": "https://localhost:8080/",
          "height": 329
        },
        "id": "6UIfa7gQCRKg",
        "outputId": "e94d5e78-214b-4396-d4d8-7ad3e0d3ac36"
      },
      "execution_count": null,
      "outputs": [
        {
          "output_type": "error",
          "ename": "TypeError",
          "evalue": "ignored",
          "traceback": [
            "\u001b[0;31m---------------------------------------------------------------------------\u001b[0m",
            "\u001b[0;31mTypeError\u001b[0m                                 Traceback (most recent call last)",
            "\u001b[0;32m<ipython-input-39-15fb61c925f7>\u001b[0m in \u001b[0;36m<cell line: 1>\u001b[0;34m()\u001b[0m\n\u001b[0;32m----> 1\u001b[0;31m \u001b[0mshop_pull_ex\u001b[0m \u001b[0;34m=\u001b[0m \u001b[0mpull_champs\u001b[0m\u001b[0;34m(\u001b[0m\u001b[0mchamp_pool_dict\u001b[0m\u001b[0;34m,\u001b[0m \u001b[0mnum_pulls\u001b[0m\u001b[0;34m,\u001b[0m \u001b[0mshop_lvl\u001b[0m\u001b[0;34m)\u001b[0m\u001b[0;34m\u001b[0m\u001b[0;34m\u001b[0m\u001b[0m\n\u001b[0m\u001b[1;32m      2\u001b[0m \u001b[0mprint\u001b[0m\u001b[0;34m(\u001b[0m\u001b[0;34m\"Pulled Champs:\"\u001b[0m\u001b[0;34m,\u001b[0m \u001b[0mshop_pull_ex\u001b[0m\u001b[0;34m)\u001b[0m\u001b[0;34m\u001b[0m\u001b[0;34m\u001b[0m\u001b[0m\n",
            "\u001b[0;32m<ipython-input-38-241ecd3c3c6e>\u001b[0m in \u001b[0;36mpull_champs\u001b[0;34m(champ_pool_dict, num_pulls, shop_lvl)\u001b[0m\n\u001b[1;32m      3\u001b[0m   \u001b[0mchamps\u001b[0m \u001b[0;34m=\u001b[0m \u001b[0mlist\u001b[0m\u001b[0;34m(\u001b[0m\u001b[0mchamp_pool_dict\u001b[0m\u001b[0;34m.\u001b[0m\u001b[0mkeys\u001b[0m\u001b[0;34m(\u001b[0m\u001b[0;34m)\u001b[0m\u001b[0;34m)\u001b[0m\u001b[0;34m\u001b[0m\u001b[0;34m\u001b[0m\u001b[0m\n\u001b[1;32m      4\u001b[0m   \u001b[0mweights\u001b[0m \u001b[0;34m=\u001b[0m \u001b[0mlist\u001b[0m\u001b[0;34m(\u001b[0m\u001b[0mchamp_pool_dict\u001b[0m\u001b[0;34m.\u001b[0m\u001b[0mvalues\u001b[0m\u001b[0;34m(\u001b[0m\u001b[0;34m)\u001b[0m\u001b[0;34m)\u001b[0m\u001b[0;34m\u001b[0m\u001b[0;34m\u001b[0m\u001b[0m\n\u001b[0;32m----> 5\u001b[0;31m   \u001b[0mpulled_champs\u001b[0m \u001b[0;34m=\u001b[0m \u001b[0mrandom\u001b[0m\u001b[0;34m.\u001b[0m\u001b[0mchoices\u001b[0m\u001b[0;34m(\u001b[0m\u001b[0mchamps\u001b[0m\u001b[0;34m,\u001b[0m \u001b[0mweights\u001b[0m \u001b[0;34m=\u001b[0m \u001b[0mweights\u001b[0m\u001b[0;34m,\u001b[0m \u001b[0mk\u001b[0m \u001b[0;34m=\u001b[0m \u001b[0mnum_pulls\u001b[0m\u001b[0;34m)\u001b[0m\u001b[0;34m\u001b[0m\u001b[0;34m\u001b[0m\u001b[0m\n\u001b[0m\u001b[1;32m      6\u001b[0m   \u001b[0;32mreturn\u001b[0m \u001b[0mpulled_champs\u001b[0m\u001b[0;34m\u001b[0m\u001b[0;34m\u001b[0m\u001b[0m\n\u001b[1;32m      7\u001b[0m \u001b[0;34m\u001b[0m\u001b[0m\n",
            "\u001b[0;32m/usr/lib/python3.10/random.py\u001b[0m in \u001b[0;36mchoices\u001b[0;34m(self, population, weights, cum_weights, k)\u001b[0m\n\u001b[1;32m    519\u001b[0m                 \u001b[0;32mreturn\u001b[0m \u001b[0;34m[\u001b[0m\u001b[0mpopulation\u001b[0m\u001b[0;34m[\u001b[0m\u001b[0mfloor\u001b[0m\u001b[0;34m(\u001b[0m\u001b[0mrandom\u001b[0m\u001b[0;34m(\u001b[0m\u001b[0;34m)\u001b[0m \u001b[0;34m*\u001b[0m \u001b[0mn\u001b[0m\u001b[0;34m)\u001b[0m\u001b[0;34m]\u001b[0m \u001b[0;32mfor\u001b[0m \u001b[0mi\u001b[0m \u001b[0;32min\u001b[0m \u001b[0m_repeat\u001b[0m\u001b[0;34m(\u001b[0m\u001b[0;32mNone\u001b[0m\u001b[0;34m,\u001b[0m \u001b[0mk\u001b[0m\u001b[0;34m)\u001b[0m\u001b[0;34m]\u001b[0m\u001b[0;34m\u001b[0m\u001b[0;34m\u001b[0m\u001b[0m\n\u001b[1;32m    520\u001b[0m             \u001b[0;32mtry\u001b[0m\u001b[0;34m:\u001b[0m\u001b[0;34m\u001b[0m\u001b[0;34m\u001b[0m\u001b[0m\n\u001b[0;32m--> 521\u001b[0;31m                 \u001b[0mcum_weights\u001b[0m \u001b[0;34m=\u001b[0m \u001b[0mlist\u001b[0m\u001b[0;34m(\u001b[0m\u001b[0m_accumulate\u001b[0m\u001b[0;34m(\u001b[0m\u001b[0mweights\u001b[0m\u001b[0;34m)\u001b[0m\u001b[0;34m)\u001b[0m\u001b[0;34m\u001b[0m\u001b[0;34m\u001b[0m\u001b[0m\n\u001b[0m\u001b[1;32m    522\u001b[0m             \u001b[0;32mexcept\u001b[0m \u001b[0mTypeError\u001b[0m\u001b[0;34m:\u001b[0m\u001b[0;34m\u001b[0m\u001b[0;34m\u001b[0m\u001b[0m\n\u001b[1;32m    523\u001b[0m                 \u001b[0;32mif\u001b[0m \u001b[0;32mnot\u001b[0m \u001b[0misinstance\u001b[0m\u001b[0;34m(\u001b[0m\u001b[0mweights\u001b[0m\u001b[0;34m,\u001b[0m \u001b[0mint\u001b[0m\u001b[0;34m)\u001b[0m\u001b[0;34m:\u001b[0m\u001b[0;34m\u001b[0m\u001b[0;34m\u001b[0m\u001b[0m\n",
            "\u001b[0;31mTypeError\u001b[0m: unsupported operand type(s) for +: 'dict' and 'dict'"
          ]
        }
      ]
    },
    {
      "cell_type": "code",
      "source": [
        "from ast import Add\n",
        "# FLow of a game\n",
        "\n",
        "start_game()\n",
        "\n",
        "select options()\n",
        "\n",
        "define lists\n",
        "\n",
        "start_champ()\n",
        "\n",
        "add_exp()\n",
        "\n",
        "add\n",
        "\n"
      ],
      "metadata": {
        "id": "jdOgeJIMzFj4"
      },
      "execution_count": null,
      "outputs": []
    }
  ]
}