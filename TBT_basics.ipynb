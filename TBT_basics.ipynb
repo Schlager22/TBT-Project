{
  "nbformat": 4,
  "nbformat_minor": 0,
  "metadata": {
    "colab": {
      "provenance": [],
      "authorship_tag": "ABX9TyM5WFV8s2//xzoVrWRuA7LA",
      "include_colab_link": true
    },
    "kernelspec": {
      "name": "python3",
      "display_name": "Python 3"
    },
    "language_info": {
      "name": "python"
    }
  },
  "cells": [
    {
      "cell_type": "markdown",
      "metadata": {
        "id": "view-in-github",
        "colab_type": "text"
      },
      "source": [
        "<a href=\"https://colab.research.google.com/github/Schlager22/TBT-Project/blob/master/TBT_basics.ipynb\" target=\"_parent\"><img src=\"https://colab.research.google.com/assets/colab-badge.svg\" alt=\"Open In Colab\"/></a>"
      ]
    },
    {
      "cell_type": "code",
      "source": [
        "import numpy as np\n",
        "import pandas as pd\n",
        "import random"
      ],
      "metadata": {
        "id": "oBAtURN6dt_A"
      },
      "execution_count": 22,
      "outputs": []
    },
    {
      "cell_type": "code",
      "execution_count": 23,
      "metadata": {
        "id": "ujeWIEz7daxI"
      },
      "outputs": [],
      "source": [
        "# Champion Definition\n",
        "# All unique TFT Champs with associated cost\n",
        "cost1_champ = ['Cassiopeia', 'ChoGath', 'Irelia', 'Jhin', 'Kayle', 'Malzahar', 'Maokai', 'Orianna', 'Poppy', 'Renekton', 'Samira', 'Tristana', 'Viego']\n",
        "cost2_champ = ['Ashe', 'Galio', 'Jinx', 'Kassadin', 'Kled', 'Sett', 'Soraka', 'Swain', 'Taliyah', 'Teemo', 'Vi', 'Warwick', 'Zed']\n",
        "cost3_champ = ['Akshan', 'Darius', 'Ekko', 'Garen', 'Jayce', 'Kalista', 'Karma', 'Katarina', 'Lissandra', 'RekSai', 'Sona', 'Taric', 'VelKoz']\n",
        "cost4_champ = ['Aphelios', 'Azir', 'Gwen', 'Nasus', 'Sejuani', 'Shen', 'Urgot', 'Yasuo', 'Zeri']\n",
        "cost5_champ = ['Aatrox', 'Ahri', 'BelVeth', 'Heimerdinger', 'KSante', 'Ryze', 'Senna', 'Sion']\n"
      ]
    },
    {
      "cell_type": "code",
      "source": [
        "# Champion Pool\n",
        "# Qty of each cost 1-29, 2-22, 3-18, 4-12, 5-10\n",
        "cost1_pool = cost1_champ * 29\n",
        "cost2_pool = cost2_champ * 22\n",
        "cost3_pool = cost3_champ * 18\n",
        "cost4_pool = cost4_champ * 12\n",
        "cost5_pool = cost5_champ * 10\n"
      ],
      "metadata": {
        "id": "r8BQ-S5fdtfR"
      },
      "execution_count": 24,
      "outputs": []
    },
    {
      "cell_type": "code",
      "source": [
        "champ_pool = [cost1_pool + cost2_pool + cost3_pool + cost4_pool + cost5_pool]"
      ],
      "metadata": {
        "id": "nA4oG-Z4eTzi"
      },
      "execution_count": 27,
      "outputs": []
    },
    {
      "cell_type": "code",
      "source": [
        "# Pop Example\n",
        "x = [1,2,3,4,5,6,7,8,9]\n",
        "shop_ex = []\n",
        "\n",
        "for i in range(0,5):\n",
        "  random.shuffle(x)\n",
        "  shop_ex.append(x.pop())\n",
        "  i + 1\n",
        "\n",
        "print(shop_ex)"
      ],
      "metadata": {
        "colab": {
          "base_uri": "https://localhost:8080/"
        },
        "id": "-v9v-Vz00dqF",
        "outputId": "c560ce93-fca2-4dcf-ef0d-e0d24a1abc06"
      },
      "execution_count": 25,
      "outputs": [
        {
          "output_type": "stream",
          "name": "stdout",
          "text": [
            "[2, 8, 9, 5, 7]\n"
          ]
        }
      ]
    },
    {
      "cell_type": "code",
      "source": [
        "shop = []\n",
        "for i in range(0,5):\n",
        "  random.shuffle(cost1_pool)\n",
        "  shop.append(cost1_pool.pop())\n",
        "  i+1\n",
        "\n",
        "print(shop)\n"
      ],
      "metadata": {
        "colab": {
          "base_uri": "https://localhost:8080/"
        },
        "id": "aTYjg_AS1maJ",
        "outputId": "388f7d3e-f982-4f59-827d-a314b766380e"
      },
      "execution_count": 45,
      "outputs": [
        {
          "output_type": "stream",
          "name": "stdout",
          "text": [
            "['Irelia', 'Malzahar', 'Poppy', 'Jhin', 'Tristana']\n"
          ]
        }
      ]
    },
    {
      "cell_type": "code",
      "source": [
        "# Shop Odds by Level\n",
        "lvl1_shop = [1, 0, 0, 0, 0 ]\n",
        "lvl2_shop = [1, 0, 0, 0, 0 ]\n",
        "lvl3_shop = [.75, .25, 0, 0, 0]\n",
        "lvl4_shop = [.55, .35, .15, 0, 0]\n",
        "lvl5_shop = [.45, .33, .2, .02, 0]\n",
        "lvl6_shop = [.25, .4, .3, .05, 0]\n",
        "lvl7_shop = [.19, .3, .35, .15, .01]\n",
        "lvl8_shop = [.16, .2, .35, .25, .04]\n",
        "lvl9_shop = [.09, .15, .3, .3, .16]\n",
        "lvl10_shop = [.05, .1, .2, .4, .25]\n",
        "lvl11_shop = [.01, .02, .12, .5, .35]"
      ],
      "metadata": {
        "id": "qo4OjLDSfZpG"
      },
      "execution_count": null,
      "outputs": []
    },
    {
      "cell_type": "code",
      "source": [
        "# Player Bench\n",
        "player1_bench = []\n",
        "shop = []\n",
        "# rule for bench space\n",
        "# if len(player1_bench) > 9:\n",
        "# raise Exception('Bench is full')\n"
      ],
      "metadata": {
        "id": "MEHX7_5PktRz"
      },
      "execution_count": null,
      "outputs": []
    },
    {
      "cell_type": "code",
      "source": [
        "player_lvl = 1\n"
      ],
      "metadata": {
        "id": "DgsdPlyCtLHR"
      },
      "execution_count": null,
      "outputs": []
    },
    {
      "cell_type": "code",
      "source": [
        "if player_lvl == 1:\n",
        "  champ_pool[0].pop()\n",
        "\n"
      ],
      "metadata": {
        "id": "7k7hTff933AV"
      },
      "execution_count": null,
      "outputs": []
    },
    {
      "cell_type": "code",
      "source": [
        "def initial_champ(cost1_pool, num_pulls):\n",
        "  starting_champ = random.choices(cost1_pool, k=num_pulls)\n",
        "    return starting_champ ="
      ],
      "metadata": {
        "id": "ge_YHr6n6DLD"
      },
      "execution_count": null,
      "outputs": []
    },
    {
      "cell_type": "code",
      "source": [
        "# Champion Probabilities as a dictionary\n",
        "champ_prob_dict = {\n",
        "    1:0.8,\n",
        "    2:0.2,\n",
        "    3:0,\n",
        "    4:0,\n",
        "    5:0\n",
        "}"
      ],
      "metadata": {
        "id": "jl2MxaDL8jm0"
      },
      "execution_count": null,
      "outputs": []
    },
    {
      "cell_type": "code",
      "source": [
        "# Champion Pool Dictionary\n",
        "champ_pool_dict = {\n",
        "    'Cassiopeia':{'cost':1}\n",
        "    , 'ChoGath':{'cost':1}\n",
        "    , 'Irelia':{'cost':1}\n",
        "    , 'Jhin':{'cost':1}\n",
        "    , 'Kayle':{'cost':1}\n",
        "    , 'Malzahar':{'cost':1}\n",
        "    , 'Maokai':{'cost':1}\n",
        "    , 'Orianna':{'cost':1}\n",
        "    , 'Poppy':{'cost':1}\n",
        "    , 'Renekton':{'cost':1}\n",
        "    , 'Samira':{'cost':1}\n",
        "    , 'Tristana':{'cost':1}\n",
        "    , 'Viego':{'cost':1}\n",
        "    , 'Ashe':{'cost':2}\n",
        "    , 'Galio':{'cost':2}\n",
        "    , 'Jinx':{'cost':2}\n",
        "    , 'Kassadin':{'cost':2}\n",
        "    , 'Kled':{'cost':2}\n",
        "    , 'Sett':{'cost':2}\n",
        "    , 'Soraka':{'cost':2}\n",
        "    , 'Swain':{'cost':2}\n",
        "    , 'Taliyah':{'cost':2}\n",
        "    , 'Teemo':{'cost':2}\n",
        "    , 'Vi':{'cost':2}\n",
        "    , 'Warwick':{'cost':2}\n",
        "    , 'Zed':{'cost':2}\n",
        "}\n"
      ],
      "metadata": {
        "id": "qkmBBKXk9B1a"
      },
      "execution_count": null,
      "outputs": []
    },
    {
      "cell_type": "code",
      "source": [
        "num_pulls = 5\n",
        "shop_lvl = 1\n",
        "player_lvl = 1"
      ],
      "metadata": {
        "id": "QCYRwUfs_AbB"
      },
      "execution_count": null,
      "outputs": []
    },
    {
      "cell_type": "code",
      "source": [
        "def pull_champs(champ_prob_dict,num_pulls):\n",
        "  champs = list(champ_pool_dict.keys())\n",
        "  weights = list(champ_prob_dict.values())\n",
        "  pulled_champs = random.choices(champs, weights = weights, k = num_pulls)\n",
        "  return pulled_champs\n",
        "\n",
        "shop = pull_champs(champ_prob_dict, num_pulls)\n",
        "print('Pulled Champs:', shop)\n",
        "\n"
      ],
      "metadata": {
        "colab": {
          "base_uri": "https://localhost:8080/",
          "height": 381
        },
        "id": "5RRe1nHz_Zb_",
        "outputId": "f2db0e9d-5b8a-4bf3-e1dd-c45ca67cc5eb"
      },
      "execution_count": null,
      "outputs": [
        {
          "output_type": "error",
          "ename": "ValueError",
          "evalue": "ignored",
          "traceback": [
            "\u001b[0;31m---------------------------------------------------------------------------\u001b[0m",
            "\u001b[0;31mValueError\u001b[0m                                Traceback (most recent call last)",
            "\u001b[0;32m<ipython-input-24-521cfaf9ac96>\u001b[0m in \u001b[0;36m<cell line: 7>\u001b[0;34m()\u001b[0m\n\u001b[1;32m      5\u001b[0m   \u001b[0;32mreturn\u001b[0m \u001b[0mpulled_champs\u001b[0m\u001b[0;34m\u001b[0m\u001b[0;34m\u001b[0m\u001b[0m\n\u001b[1;32m      6\u001b[0m \u001b[0;34m\u001b[0m\u001b[0m\n\u001b[0;32m----> 7\u001b[0;31m \u001b[0mshop\u001b[0m \u001b[0;34m=\u001b[0m \u001b[0mpull_champs\u001b[0m\u001b[0;34m(\u001b[0m\u001b[0mchamp_prob_dict\u001b[0m\u001b[0;34m,\u001b[0m \u001b[0mnum_pulls\u001b[0m\u001b[0;34m)\u001b[0m\u001b[0;34m\u001b[0m\u001b[0;34m\u001b[0m\u001b[0m\n\u001b[0m\u001b[1;32m      8\u001b[0m \u001b[0mprint\u001b[0m\u001b[0;34m(\u001b[0m\u001b[0;34m'Pulled Champs:'\u001b[0m\u001b[0;34m,\u001b[0m \u001b[0mshop\u001b[0m\u001b[0;34m)\u001b[0m\u001b[0;34m\u001b[0m\u001b[0;34m\u001b[0m\u001b[0m\n\u001b[1;32m      9\u001b[0m \u001b[0;34m\u001b[0m\u001b[0m\n",
            "\u001b[0;32m<ipython-input-24-521cfaf9ac96>\u001b[0m in \u001b[0;36mpull_champs\u001b[0;34m(champ_prob_dict, num_pulls)\u001b[0m\n\u001b[1;32m      2\u001b[0m   \u001b[0mchamps\u001b[0m \u001b[0;34m=\u001b[0m \u001b[0mlist\u001b[0m\u001b[0;34m(\u001b[0m\u001b[0mchamp_pool_dict\u001b[0m\u001b[0;34m.\u001b[0m\u001b[0mkeys\u001b[0m\u001b[0;34m(\u001b[0m\u001b[0;34m)\u001b[0m\u001b[0;34m)\u001b[0m\u001b[0;34m\u001b[0m\u001b[0;34m\u001b[0m\u001b[0m\n\u001b[1;32m      3\u001b[0m   \u001b[0mweights\u001b[0m \u001b[0;34m=\u001b[0m \u001b[0mlist\u001b[0m\u001b[0;34m(\u001b[0m\u001b[0mchamp_prob_dict\u001b[0m\u001b[0;34m.\u001b[0m\u001b[0mvalues\u001b[0m\u001b[0;34m(\u001b[0m\u001b[0;34m)\u001b[0m\u001b[0;34m)\u001b[0m\u001b[0;34m\u001b[0m\u001b[0;34m\u001b[0m\u001b[0m\n\u001b[0;32m----> 4\u001b[0;31m   \u001b[0mpulled_champs\u001b[0m \u001b[0;34m=\u001b[0m \u001b[0mrandom\u001b[0m\u001b[0;34m.\u001b[0m\u001b[0mchoices\u001b[0m\u001b[0;34m(\u001b[0m\u001b[0mchamps\u001b[0m\u001b[0;34m,\u001b[0m \u001b[0mweights\u001b[0m \u001b[0;34m=\u001b[0m \u001b[0mweights\u001b[0m\u001b[0;34m,\u001b[0m \u001b[0mk\u001b[0m \u001b[0;34m=\u001b[0m \u001b[0mnum_pulls\u001b[0m\u001b[0;34m)\u001b[0m\u001b[0;34m\u001b[0m\u001b[0;34m\u001b[0m\u001b[0m\n\u001b[0m\u001b[1;32m      5\u001b[0m   \u001b[0;32mreturn\u001b[0m \u001b[0mpulled_champs\u001b[0m\u001b[0;34m\u001b[0m\u001b[0;34m\u001b[0m\u001b[0m\n\u001b[1;32m      6\u001b[0m \u001b[0;34m\u001b[0m\u001b[0m\n",
            "\u001b[0;32m/usr/lib/python3.10/random.py\u001b[0m in \u001b[0;36mchoices\u001b[0;34m(self, population, weights, cum_weights, k)\u001b[0m\n\u001b[1;32m    530\u001b[0m             \u001b[0;32mraise\u001b[0m \u001b[0mTypeError\u001b[0m\u001b[0;34m(\u001b[0m\u001b[0;34m'Cannot specify both weights and cumulative weights'\u001b[0m\u001b[0;34m)\u001b[0m\u001b[0;34m\u001b[0m\u001b[0;34m\u001b[0m\u001b[0m\n\u001b[1;32m    531\u001b[0m         \u001b[0;32mif\u001b[0m \u001b[0mlen\u001b[0m\u001b[0;34m(\u001b[0m\u001b[0mcum_weights\u001b[0m\u001b[0;34m)\u001b[0m \u001b[0;34m!=\u001b[0m \u001b[0mn\u001b[0m\u001b[0;34m:\u001b[0m\u001b[0;34m\u001b[0m\u001b[0;34m\u001b[0m\u001b[0m\n\u001b[0;32m--> 532\u001b[0;31m             \u001b[0;32mraise\u001b[0m \u001b[0mValueError\u001b[0m\u001b[0;34m(\u001b[0m\u001b[0;34m'The number of weights does not match the population'\u001b[0m\u001b[0;34m)\u001b[0m\u001b[0;34m\u001b[0m\u001b[0;34m\u001b[0m\u001b[0m\n\u001b[0m\u001b[1;32m    533\u001b[0m         \u001b[0mtotal\u001b[0m \u001b[0;34m=\u001b[0m \u001b[0mcum_weights\u001b[0m\u001b[0;34m[\u001b[0m\u001b[0;34m-\u001b[0m\u001b[0;36m1\u001b[0m\u001b[0;34m]\u001b[0m \u001b[0;34m+\u001b[0m \u001b[0;36m0.0\u001b[0m   \u001b[0;31m# convert to float\u001b[0m\u001b[0;34m\u001b[0m\u001b[0;34m\u001b[0m\u001b[0m\n\u001b[1;32m    534\u001b[0m         \u001b[0;32mif\u001b[0m \u001b[0mtotal\u001b[0m \u001b[0;34m<=\u001b[0m \u001b[0;36m0.0\u001b[0m\u001b[0;34m:\u001b[0m\u001b[0;34m\u001b[0m\u001b[0;34m\u001b[0m\u001b[0m\n",
            "\u001b[0;31mValueError\u001b[0m: The number of weights does not match the population"
          ]
        }
      ]
    },
    {
      "cell_type": "code",
      "source": [
        "def pull_champs(champ_pool_dict, num_pulls, shop_lvl):\n",
        "  #probabilities = get_probabilities(champion_pool, shop_lvl)\n",
        "  champs = list(champ_pool_dict.keys())\n",
        "  weights = list(champ_pool_dict.values())\n",
        "  pulled_champs = random.choices(champs, weights = weights, k = num_pulls)\n",
        "  return pulled_champs\n",
        "\n",
        "#def get_probabilities(champ_pool_dict, shop_lvl):\n",
        "#    champ"
      ],
      "metadata": {
        "id": "UORmno9wEHEM"
      },
      "execution_count": null,
      "outputs": []
    },
    {
      "cell_type": "code",
      "source": [
        "shop_pull_ex = pull_champs(champ_pool_dict, num_pulls, shop_lvl)\n",
        "print(\"Pulled Champs:\", shop_pull_ex)"
      ],
      "metadata": {
        "colab": {
          "base_uri": "https://localhost:8080/",
          "height": 329
        },
        "id": "6UIfa7gQCRKg",
        "outputId": "e94d5e78-214b-4396-d4d8-7ad3e0d3ac36"
      },
      "execution_count": null,
      "outputs": [
        {
          "output_type": "error",
          "ename": "TypeError",
          "evalue": "ignored",
          "traceback": [
            "\u001b[0;31m---------------------------------------------------------------------------\u001b[0m",
            "\u001b[0;31mTypeError\u001b[0m                                 Traceback (most recent call last)",
            "\u001b[0;32m<ipython-input-39-15fb61c925f7>\u001b[0m in \u001b[0;36m<cell line: 1>\u001b[0;34m()\u001b[0m\n\u001b[0;32m----> 1\u001b[0;31m \u001b[0mshop_pull_ex\u001b[0m \u001b[0;34m=\u001b[0m \u001b[0mpull_champs\u001b[0m\u001b[0;34m(\u001b[0m\u001b[0mchamp_pool_dict\u001b[0m\u001b[0;34m,\u001b[0m \u001b[0mnum_pulls\u001b[0m\u001b[0;34m,\u001b[0m \u001b[0mshop_lvl\u001b[0m\u001b[0;34m)\u001b[0m\u001b[0;34m\u001b[0m\u001b[0;34m\u001b[0m\u001b[0m\n\u001b[0m\u001b[1;32m      2\u001b[0m \u001b[0mprint\u001b[0m\u001b[0;34m(\u001b[0m\u001b[0;34m\"Pulled Champs:\"\u001b[0m\u001b[0;34m,\u001b[0m \u001b[0mshop_pull_ex\u001b[0m\u001b[0;34m)\u001b[0m\u001b[0;34m\u001b[0m\u001b[0;34m\u001b[0m\u001b[0m\n",
            "\u001b[0;32m<ipython-input-38-241ecd3c3c6e>\u001b[0m in \u001b[0;36mpull_champs\u001b[0;34m(champ_pool_dict, num_pulls, shop_lvl)\u001b[0m\n\u001b[1;32m      3\u001b[0m   \u001b[0mchamps\u001b[0m \u001b[0;34m=\u001b[0m \u001b[0mlist\u001b[0m\u001b[0;34m(\u001b[0m\u001b[0mchamp_pool_dict\u001b[0m\u001b[0;34m.\u001b[0m\u001b[0mkeys\u001b[0m\u001b[0;34m(\u001b[0m\u001b[0;34m)\u001b[0m\u001b[0;34m)\u001b[0m\u001b[0;34m\u001b[0m\u001b[0;34m\u001b[0m\u001b[0m\n\u001b[1;32m      4\u001b[0m   \u001b[0mweights\u001b[0m \u001b[0;34m=\u001b[0m \u001b[0mlist\u001b[0m\u001b[0;34m(\u001b[0m\u001b[0mchamp_pool_dict\u001b[0m\u001b[0;34m.\u001b[0m\u001b[0mvalues\u001b[0m\u001b[0;34m(\u001b[0m\u001b[0;34m)\u001b[0m\u001b[0;34m)\u001b[0m\u001b[0;34m\u001b[0m\u001b[0;34m\u001b[0m\u001b[0m\n\u001b[0;32m----> 5\u001b[0;31m   \u001b[0mpulled_champs\u001b[0m \u001b[0;34m=\u001b[0m \u001b[0mrandom\u001b[0m\u001b[0;34m.\u001b[0m\u001b[0mchoices\u001b[0m\u001b[0;34m(\u001b[0m\u001b[0mchamps\u001b[0m\u001b[0;34m,\u001b[0m \u001b[0mweights\u001b[0m \u001b[0;34m=\u001b[0m \u001b[0mweights\u001b[0m\u001b[0;34m,\u001b[0m \u001b[0mk\u001b[0m \u001b[0;34m=\u001b[0m \u001b[0mnum_pulls\u001b[0m\u001b[0;34m)\u001b[0m\u001b[0;34m\u001b[0m\u001b[0;34m\u001b[0m\u001b[0m\n\u001b[0m\u001b[1;32m      6\u001b[0m   \u001b[0;32mreturn\u001b[0m \u001b[0mpulled_champs\u001b[0m\u001b[0;34m\u001b[0m\u001b[0;34m\u001b[0m\u001b[0m\n\u001b[1;32m      7\u001b[0m \u001b[0;34m\u001b[0m\u001b[0m\n",
            "\u001b[0;32m/usr/lib/python3.10/random.py\u001b[0m in \u001b[0;36mchoices\u001b[0;34m(self, population, weights, cum_weights, k)\u001b[0m\n\u001b[1;32m    519\u001b[0m                 \u001b[0;32mreturn\u001b[0m \u001b[0;34m[\u001b[0m\u001b[0mpopulation\u001b[0m\u001b[0;34m[\u001b[0m\u001b[0mfloor\u001b[0m\u001b[0;34m(\u001b[0m\u001b[0mrandom\u001b[0m\u001b[0;34m(\u001b[0m\u001b[0;34m)\u001b[0m \u001b[0;34m*\u001b[0m \u001b[0mn\u001b[0m\u001b[0;34m)\u001b[0m\u001b[0;34m]\u001b[0m \u001b[0;32mfor\u001b[0m \u001b[0mi\u001b[0m \u001b[0;32min\u001b[0m \u001b[0m_repeat\u001b[0m\u001b[0;34m(\u001b[0m\u001b[0;32mNone\u001b[0m\u001b[0;34m,\u001b[0m \u001b[0mk\u001b[0m\u001b[0;34m)\u001b[0m\u001b[0;34m]\u001b[0m\u001b[0;34m\u001b[0m\u001b[0;34m\u001b[0m\u001b[0m\n\u001b[1;32m    520\u001b[0m             \u001b[0;32mtry\u001b[0m\u001b[0;34m:\u001b[0m\u001b[0;34m\u001b[0m\u001b[0;34m\u001b[0m\u001b[0m\n\u001b[0;32m--> 521\u001b[0;31m                 \u001b[0mcum_weights\u001b[0m \u001b[0;34m=\u001b[0m \u001b[0mlist\u001b[0m\u001b[0;34m(\u001b[0m\u001b[0m_accumulate\u001b[0m\u001b[0;34m(\u001b[0m\u001b[0mweights\u001b[0m\u001b[0;34m)\u001b[0m\u001b[0;34m)\u001b[0m\u001b[0;34m\u001b[0m\u001b[0;34m\u001b[0m\u001b[0m\n\u001b[0m\u001b[1;32m    522\u001b[0m             \u001b[0;32mexcept\u001b[0m \u001b[0mTypeError\u001b[0m\u001b[0;34m:\u001b[0m\u001b[0;34m\u001b[0m\u001b[0;34m\u001b[0m\u001b[0m\n\u001b[1;32m    523\u001b[0m                 \u001b[0;32mif\u001b[0m \u001b[0;32mnot\u001b[0m \u001b[0misinstance\u001b[0m\u001b[0;34m(\u001b[0m\u001b[0mweights\u001b[0m\u001b[0;34m,\u001b[0m \u001b[0mint\u001b[0m\u001b[0;34m)\u001b[0m\u001b[0;34m:\u001b[0m\u001b[0;34m\u001b[0m\u001b[0;34m\u001b[0m\u001b[0m\n",
            "\u001b[0;31mTypeError\u001b[0m: unsupported operand type(s) for +: 'dict' and 'dict'"
          ]
        }
      ]
    }
  ]
}